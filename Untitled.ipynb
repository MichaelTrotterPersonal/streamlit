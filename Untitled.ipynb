{
 "cells": [
  {
   "cell_type": "code",
   "execution_count": 47,
   "metadata": {},
   "outputs": [],
   "source": [
    "from data_generation import get_records\n",
    "import pandas as pd\n",
    "import seaborn as sns\n",
    "import numpy as np"
   ]
  },
  {
   "cell_type": "code",
   "execution_count": 51,
   "metadata": {},
   "outputs": [],
   "source": [
    "records = get_records(1000)\n",
    "df = pd.DataFrame(records)\n",
    "df.timestamp = pd.to_datetime(df.timestamp)"
   ]
  },
  {
   "cell_type": "code",
   "execution_count": null,
   "metadata": {},
   "outputs": [],
   "source": []
  },
  {
   "cell_type": "code",
   "execution_count": null,
   "metadata": {},
   "outputs": [],
   "source": []
  },
  {
   "cell_type": "code",
   "execution_count": null,
   "metadata": {},
   "outputs": [],
   "source": []
  },
  {
   "cell_type": "code",
   "execution_count": null,
   "metadata": {},
   "outputs": [],
   "source": []
  },
  {
   "cell_type": "code",
   "execution_count": 45,
   "metadata": {},
   "outputs": [
    {
     "ename": "NameError",
     "evalue": "name 'plt' is not defined",
     "output_type": "error",
     "traceback": [
      "\u001b[1;31m---------------------------------------------------------------------------\u001b[0m",
      "\u001b[1;31mNameError\u001b[0m                                 Traceback (most recent call last)",
      "\u001b[1;32m<ipython-input-45-e71a1094a0cd>\u001b[0m in \u001b[0;36m<module>\u001b[1;34m\u001b[0m\n\u001b[0;32m     20\u001b[0m \u001b[1;33m\u001b[0m\u001b[0m\n\u001b[0;32m     21\u001b[0m \u001b[1;31m# Display the barchart\u001b[0m\u001b[1;33m\u001b[0m\u001b[1;33m\u001b[0m\u001b[1;33m\u001b[0m\u001b[0m\n\u001b[1;32m---> 22\u001b[1;33m \u001b[0mplt\u001b[0m\u001b[1;33m.\u001b[0m\u001b[0mshow\u001b[0m\u001b[1;33m(\u001b[0m\u001b[1;33m)\u001b[0m\u001b[1;33m\u001b[0m\u001b[1;33m\u001b[0m\u001b[0m\n\u001b[0m",
      "\u001b[1;31mNameError\u001b[0m: name 'plt' is not defined"
     ]
    },
    {
     "data": {
      "image/png": "[encoded data removed]",
      "text/plain": [
       "<Figure size 432x288 with 1 Axes>"
      ]
     },
     "metadata": {
      "needs_background": "light"
     },
     "output_type": "display_data"
    }
   ],
   "source": [
    "\n",
    "# Create a sample DataFrame with username and sport columns\n",
    "df = pd.DataFrame({\n",
    "    'username': ['Alice', 'Alice', 'Bob', 'Bob', 'Bob', 'Charlie', 'Charlie', 'Charlie'],\n",
    "    'sport': ['football', 'tennis', 'football', 'tennis', 'basketball', 'tennis', 'basketball', 'football']\n",
    "})\n",
    "\n",
    "# Group the data by username and sport, and count the number of records for each group\n",
    "\n",
    "\n",
    "# Pivot the data to create a matrix with usernames as the index, sports as the columns, and the counts as the values\n",
    "\n",
    "\n",
    "# Create the stacked barchart using the plot() function\n",
    "\n",
    "\n",
    "# Set the labels and legend\n",
    "ax.set_xlabel('Username')\n",
    "ax.set_ylabel('Count')\n",
    "ax.legend(title='Sport')\n",
    "\n",
    "# Display the barchart\n",
    "plt.show()"
   ]
  },
  {
   "cell_type": "code",
   "execution_count": 48,
   "metadata": {},
   "outputs": [],
   "source": [
    "chart_data = pd.DataFrame(\n",
    "    np.random.randn(20, 3),\n",
    "    columns=[\"a\", \"b\", \"c\"])"
   ]
  },
  {
   "cell_type": "code",
   "execution_count": 49,
   "metadata": {},
   "outputs": [
    {
     "data": {
      "text/html": [
       "<div>\n",
       "<style scoped>\n",
       "    .dataframe tbody tr th:only-of-type {\n",
       "        vertical-align: middle;\n",
       "    }\n",
       "\n",
       "    .dataframe tbody tr th {\n",
       "        vertical-align: top;\n",
       "    }\n",
       "\n",
       "    .dataframe thead th {\n",
       "        text-align: right;\n",
       "    }\n",
       "</style>\n",
       "<table border=\"1\" class=\"dataframe\">\n",
       "  <thead>\n",
       "    <tr style=\"text-align: right;\">\n",
       "      <th></th>\n",
       "      <th>a</th>\n",
       "      <th>b</th>\n",
       "      <th>c</th>\n",
       "    </tr>\n",
       "  </thead>\n",
       "  <tbody>\n",
       "    <tr>\n",
       "      <th>0</th>\n",
       "      <td>1.429875</td>\n",
       "      <td>-0.141068</td>\n",
       "      <td>1.221478</td>\n",
       "    </tr>\n",
       "    <tr>\n",
       "      <th>1</th>\n",
       "      <td>1.987976</td>\n",
       "      <td>1.581729</td>\n",
       "      <td>-0.480071</td>\n",
       "    </tr>\n",
       "    <tr>\n",
       "      <th>2</th>\n",
       "      <td>-1.580813</td>\n",
       "      <td>-0.226882</td>\n",
       "      <td>1.400125</td>\n",
       "    </tr>\n",
       "    <tr>\n",
       "      <th>3</th>\n",
       "      <td>-1.423111</td>\n",
       "      <td>1.132572</td>\n",
       "      <td>1.618700</td>\n",
       "    </tr>\n",
       "    <tr>\n",
       "      <th>4</th>\n",
       "      <td>1.068146</td>\n",
       "      <td>-1.374752</td>\n",
       "      <td>-0.755711</td>\n",
       "    </tr>\n",
       "    <tr>\n",
       "      <th>5</th>\n",
       "      <td>0.519642</td>\n",
       "      <td>0.387668</td>\n",
       "      <td>-0.535122</td>\n",
       "    </tr>\n",
       "    <tr>\n",
       "      <th>6</th>\n",
       "      <td>1.542147</td>\n",
       "      <td>0.458720</td>\n",
       "      <td>-0.259844</td>\n",
       "    </tr>\n",
       "    <tr>\n",
       "      <th>7</th>\n",
       "      <td>1.474157</td>\n",
       "      <td>0.164081</td>\n",
       "      <td>-0.808049</td>\n",
       "    </tr>\n",
       "    <tr>\n",
       "      <th>8</th>\n",
       "      <td>0.252710</td>\n",
       "      <td>-1.195061</td>\n",
       "      <td>0.023031</td>\n",
       "    </tr>\n",
       "    <tr>\n",
       "      <th>9</th>\n",
       "      <td>-0.603377</td>\n",
       "      <td>-0.730645</td>\n",
       "      <td>-0.230639</td>\n",
       "    </tr>\n",
       "    <tr>\n",
       "      <th>10</th>\n",
       "      <td>0.911536</td>\n",
       "      <td>1.695867</td>\n",
       "      <td>-0.433381</td>\n",
       "    </tr>\n",
       "    <tr>\n",
       "      <th>11</th>\n",
       "      <td>1.977241</td>\n",
       "      <td>0.619629</td>\n",
       "      <td>0.201525</td>\n",
       "    </tr>\n",
       "    <tr>\n",
       "      <th>12</th>\n",
       "      <td>-0.130482</td>\n",
       "      <td>0.383478</td>\n",
       "      <td>0.341726</td>\n",
       "    </tr>\n",
       "    <tr>\n",
       "      <th>13</th>\n",
       "      <td>-1.492111</td>\n",
       "      <td>1.040086</td>\n",
       "      <td>-1.343642</td>\n",
       "    </tr>\n",
       "    <tr>\n",
       "      <th>14</th>\n",
       "      <td>-1.727157</td>\n",
       "      <td>1.627080</td>\n",
       "      <td>-0.212788</td>\n",
       "    </tr>\n",
       "    <tr>\n",
       "      <th>15</th>\n",
       "      <td>2.213145</td>\n",
       "      <td>1.403279</td>\n",
       "      <td>0.043683</td>\n",
       "    </tr>\n",
       "    <tr>\n",
       "      <th>16</th>\n",
       "      <td>-0.542731</td>\n",
       "      <td>-1.398164</td>\n",
       "      <td>2.088805</td>\n",
       "    </tr>\n",
       "    <tr>\n",
       "      <th>17</th>\n",
       "      <td>0.606562</td>\n",
       "      <td>-0.183252</td>\n",
       "      <td>0.084574</td>\n",
       "    </tr>\n",
       "    <tr>\n",
       "      <th>18</th>\n",
       "      <td>0.272161</td>\n",
       "      <td>-0.316046</td>\n",
       "      <td>0.431862</td>\n",
       "    </tr>\n",
       "    <tr>\n",
       "      <th>19</th>\n",
       "      <td>-0.355434</td>\n",
       "      <td>-1.971834</td>\n",
       "      <td>0.062110</td>\n",
       "    </tr>\n",
       "  </tbody>\n",
       "</table>\n",
       "</div>"
      ],
      "text/plain": [
       "           a         b         c\n",
       "0   1.429875 -0.141068  1.221478\n",
       "1   1.987976  1.581729 -0.480071\n",
       "2  -1.580813 -0.226882  1.400125\n",
       "3  -1.423111  1.132572  1.618700\n",
       "4   1.068146 -1.374752 -0.755711\n",
       "5   0.519642  0.387668 -0.535122\n",
       "6   1.542147  0.458720 -0.259844\n",
       "7   1.474157  0.164081 -0.808049\n",
       "8   0.252710 -1.195061  0.023031\n",
       "9  -0.603377 -0.730645 -0.230639\n",
       "10  0.911536  1.695867 -0.433381\n",
       "11  1.977241  0.619629  0.201525\n",
       "12 -0.130482  0.383478  0.341726\n",
       "13 -1.492111  1.040086 -1.343642\n",
       "14 -1.727157  1.627080 -0.212788\n",
       "15  2.213145  1.403279  0.043683\n",
       "16 -0.542731 -1.398164  2.088805\n",
       "17  0.606562 -0.183252  0.084574\n",
       "18  0.272161 -0.316046  0.431862\n",
       "19 -0.355434 -1.971834  0.062110"
      ]
     },
     "execution_count": 49,
     "metadata": {},
     "output_type": "execute_result"
    }
   ],
   "source": [
    "chart_data"
   ]
  },
  {
   "cell_type": "code",
   "execution_count": 52,
   "metadata": {},
   "outputs": [],
   "source": [
    "df_grouped = df.groupby(['user_id', 'calling_file']).size().reset_index(name='count')\n",
    "df_pivot = df_grouped.pivot(index='user_id', columns='calling_file', values='count').fillna(0)"
   ]
  },
  {
   "cell_type": "code",
   "execution_count": 55,
   "metadata": {},
   "outputs": [
    {
     "data": {
      "text/plain": [
       "['csv-helpers-toolbox_1.4.0',\n",
       " 'detections-warehouse_0.5.0',\n",
       " 'hexify-toolbox_0.1.2',\n",
       " 'imagery-toolbox_2.0.0',\n",
       " 'label-store_0.1.0',\n",
       " 'maritime-toolbox_1.3.0',\n",
       " 'metadata-toolbox_0.1.0',\n",
       " 'operations-toolbox_1.2.2',\n",
       " 'polar-toolbox_1.8.2',\n",
       " 'telecom-toolbox_1.7.1',\n",
       " 'trajectory-toolbox_1.2.2']"
      ]
     },
     "execution_count": 55,
     "metadata": {},
     "output_type": "execute_result"
    }
   ],
   "source": [
    "list(df_pivot.columns)"
   ]
  },
  {
   "cell_type": "code",
   "execution_count": null,
   "metadata": {},
   "outputs": [],
   "source": []
  }
 ],
 "metadata": {
  "kernelspec": {
   "display_name": "Python 3",
   "language": "python",
   "name": "python3"
  },
  "language_info": {
   "codemirror_mode": {
    "name": "ipython",
    "version": 3
   },
   "file_extension": ".py",
   "mimetype": "text/x-python",
   "name": "python",
   "nbconvert_exporter": "python",
   "pygments_lexer": "ipython3",
   "version": "3.8.3"
  }
 },
 "nbformat": 4,
 "nbformat_minor": 4
}
